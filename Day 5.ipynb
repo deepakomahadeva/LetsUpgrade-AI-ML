{
 "cells": [
  {
   "cell_type": "markdown",
   "metadata": {},
   "source": [
    "Question 1 :First 20 non-even prime natural numbers"
   ]
  },
  {
   "cell_type": "code",
   "execution_count": 31,
   "metadata": {},
   "outputs": [
    {
     "name": "stdout",
     "output_type": "stream",
     "text": [
      "5\n",
      "7\n",
      "11\n",
      "13\n",
      "17\n",
      "19\n"
     ]
    }
   ],
   "source": [
    "for i in range(0, 21):\n",
    "    if i != 1 and i != 3:\n",
    "        if i%2 != 0 and i%3 != 0:\n",
    "            print (i)"
   ]
  },
  {
   "cell_type": "markdown",
   "metadata": {},
   "source": [
    "Question 2 : Program to implement 15 functions of string"
   ]
  },
  {
   "cell_type": "code",
   "execution_count": 32,
   "metadata": {},
   "outputs": [
    {
     "name": "stdout",
     "output_type": "stream",
     "text": [
      "Learning python as a first step towards ai & ml, therfore python is important\n",
      "learning python as a first step towards ai & ml, therfore python is important\n",
      "2\n",
      "b'Learning Python as a first step towards AI & ML, therfore Python is important'\n",
      "True\n",
      "27\n",
      "9\n",
      "True\n",
      "Learning Coders as a first step towards AI & ML, therfore Coders is important\n",
      "lEARNING pYTHON AS A FIRST STEP TOWARDS ai & ml, THERFORE pYTHON IS IMPORTANT\n",
      "Learning Python As A First Step Towards Ai & Ml, Therfore Python Is Important\n",
      "00000000000000000000000Learning Python as a first step towards AI & ML, therfore Python is important\n",
      "LEARNING PYTHON AS A FIRST STEP TOWARDS AI & ML, THERFORE PYTHON IS IMPORTANT\n",
      " Python as a first step towards AI & ML, therfore Python is important\n",
      "True\n",
      "['Learning', 'Python', 'as', 'a', 'first', 'step', 'towards', 'AI', '&', 'ML,', 'therfore', 'Python', 'is', 'important']\n",
      "('Learning Python as a first step ', 'towards', ' AI & ML, therfore Python is important')\n"
     ]
    }
   ],
   "source": [
    "str1 = \"Learning Python as a first step towards AI & ML, therfore Python is important\"\n",
    "\n",
    "# Capitalize\n",
    "print(str1.capitalize())\n",
    "\n",
    "# Casefold\n",
    "print(str1.casefold())\n",
    "\n",
    "# Count\n",
    "print(str1.count(\"Python\"))\n",
    "\n",
    "# Encode\n",
    "print(str1.encode())\n",
    "\n",
    "# Endswith\n",
    "print(str1.endswith(\"important\"))\n",
    "\n",
    "# Find\n",
    "print(str1.find(\"step\"))\n",
    "\n",
    "# Index\n",
    "print(str1.index(\"Python\"))\n",
    "\n",
    "# ISASCII\n",
    "print(str1.isascii())\n",
    "\n",
    "# REPLACE\n",
    "print(str1.replace(\"Python\", \"Coders\"))\n",
    "\n",
    "# SWAPCASE\n",
    "print(str1.swapcase())\n",
    "\n",
    "# Title\n",
    "print(str1.title())\n",
    "\n",
    "# Zfill\n",
    "print(str1.zfill(100))\n",
    "\n",
    "# Upper\n",
    "print(str1.upper())\n",
    "\n",
    "# Strip\n",
    "print(str1.strip(\"Learning\"))\n",
    "\n",
    "# Startswith\n",
    "print(str1.startswith(\"Learning\"))\n",
    "\n",
    "# Split\n",
    "print(str1.split())\n",
    "\n",
    "# Rpartition\n",
    "print(str1.rpartition(\"towards\"))"
   ]
  },
  {
   "cell_type": "markdown",
   "metadata": {},
   "source": [
    "Question 3: Prog to verify whether a given string is palindrome, anagram or none of it"
   ]
  },
  {
   "cell_type": "code",
   "execution_count": 26,
   "metadata": {},
   "outputs": [
    {
     "name": "stdout",
     "output_type": "stream",
     "text": [
      "enter stringcat\n",
      "User entered string is not Palindrome or Anagram\n"
     ]
    }
   ],
   "source": [
    "wordlist = [\"art\", \"car\", \"cat\"]\n",
    "\n",
    "def isPalindrome(s): \n",
    "    return s == s[::-1] \n",
    "\n",
    "def isAnagram(s):\n",
    "    for temp in wordlist:\n",
    "        if(sorted(s)==sorted(temp)):\n",
    "            return True\n",
    "            break\n",
    "        else:\n",
    "            return False\n",
    "        \n",
    "userinput = input(\"enter string\")\n",
    "checked = False\n",
    "if(isPalindrome(userinput)):\n",
    "    print(\"String is Palindrome \")\n",
    "    checked = True\n",
    "\n",
    "if(isAnagram(userinput)):\n",
    "    print(\"String is Anagram \")\n",
    "    checked = True\n",
    "    \n",
    "if(checked == False):\n",
    "    print(\"User entered string is not Palindrome or Anagram\")"
   ]
  },
  {
   "cell_type": "markdown",
   "metadata": {},
   "source": [
    "Question 4: Python user defined function that removes all additional characters in a string retain the rest in lower case"
   ]
  },
  {
   "cell_type": "code",
   "execution_count": 30,
   "metadata": {},
   "outputs": [
    {
     "name": "stdout",
     "output_type": "stream",
     "text": [
      "Enter a stringDr. Darshan Ingle@AI-ML Trainer\n",
      "drdarshaningleaimltrainer\n"
     ]
    }
   ],
   "source": [
    "def onlyAlphanumeric(s):\n",
    "    onlyalphanumeric = \"\"\n",
    "    for character in s:\n",
    "        if character.isalnum():\n",
    "            onlyalphanumeric += character\n",
    "            \n",
    "    onlyalphanumeric = onlyalphanumeric.lower() \n",
    "    return(onlyalphanumeric)\n",
    "\n",
    "userin = input(\"Enter a string\")\n",
    "print(onlyAlphanumeric(userin))"
   ]
  }
 ],
 "metadata": {
  "kernelspec": {
   "display_name": "Python 3",
   "language": "python",
   "name": "python3"
  },
  "language_info": {
   "codemirror_mode": {
    "name": "ipython",
    "version": 3
   },
   "file_extension": ".py",
   "mimetype": "text/x-python",
   "name": "python",
   "nbconvert_exporter": "python",
   "pygments_lexer": "ipython3",
   "version": "3.7.6"
  }
 },
 "nbformat": 4,
 "nbformat_minor": 4
}
