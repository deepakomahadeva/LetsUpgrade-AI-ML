{
 "cells": [
  {
   "cell_type": "markdown",
   "metadata": {},
   "source": [
    "Question 1 : Addition, Subtraction, Multiplication, Division, Floor Division & Modulus operation on a complex number."
   ]
  },
  {
   "cell_type": "code",
   "execution_count": 3,
   "metadata": {},
   "outputs": [
    {
     "name": "stdout",
     "output_type": "stream",
     "text": [
      "\n",
      "\n",
      " Select operation.\n",
      " 1.Addition \n",
      " 2.Subtraction \n",
      " 3.Multiplication \n",
      " 4.Division \n",
      " 5.Floordivision \n",
      " 6.Modulooperation \n",
      " 7.Clear \n",
      " 8.Exit \n",
      "\n",
      "Enter your choice: from 1 to 6, 7 to clear screen and 8 to Exit:  1\n",
      "Enter a first number (example 1 + 2j) :1+2j\n",
      "Enter a second number (example 1 + 2j) :3+4j\n",
      "Sum is : (4+6j)\n",
      "\n",
      "\n",
      " Select operation.\n",
      " 1.Addition \n",
      " 2.Subtraction \n",
      " 3.Multiplication \n",
      " 4.Division \n",
      " 5.Floordivision \n",
      " 6.Modulooperation \n",
      " 7.Clear \n",
      " 8.Exit \n",
      "\n",
      "Enter your choice: from 1 to 6, 7 to clear screen and 8 to Exit:  2\n",
      "Enter a first number (example 1 + 2j) :3+3j\n",
      "Enter a second number (example 1 + 2j) :2+j\n",
      "Sum is : (1+2j)\n",
      "\n",
      "\n",
      " Select operation.\n",
      " 1.Addition \n",
      " 2.Subtraction \n",
      " 3.Multiplication \n",
      " 4.Division \n",
      " 5.Floordivision \n",
      " 6.Modulooperation \n",
      " 7.Clear \n",
      " 8.Exit \n",
      "\n",
      "Enter your choice: from 1 to 6, 7 to clear screen and 8 to Exit:  3\n",
      "Enter a first number (example 1 + 2j) :2+2j\n",
      "Enter a second number (example 1 + 2j) :2+2j\n",
      "Sum is : 8j\n",
      "\n",
      "\n",
      " Select operation.\n",
      " 1.Addition \n",
      " 2.Subtraction \n",
      " 3.Multiplication \n",
      " 4.Division \n",
      " 5.Floordivision \n",
      " 6.Modulooperation \n",
      " 7.Clear \n",
      " 8.Exit \n",
      "\n",
      "Enter your choice: from 1 to 6, 7 to clear screen and 8 to Exit:  4\n",
      "Enter a first number (example 1 + 2j) :10+10j\n",
      "Enter a second number (example 1 + 2j) :2+2j\n",
      "Sum is : (5+0j)\n",
      "\n",
      "\n",
      " Select operation.\n",
      " 1.Addition \n",
      " 2.Subtraction \n",
      " 3.Multiplication \n",
      " 4.Division \n",
      " 5.Floordivision \n",
      " 6.Modulooperation \n",
      " 7.Clear \n",
      " 8.Exit \n",
      "\n",
      "Enter your choice: from 1 to 6, 7 to clear screen and 8 to Exit:  5\n",
      "Enter a first number (example 1 + 2j) :10+10j\n",
      "Enter a second number (example 1 + 2j) :5+5j\n",
      "An exception occurred\n",
      "Sum is : None\n",
      "\n",
      "\n",
      " Select operation.\n",
      " 1.Addition \n",
      " 2.Subtraction \n",
      " 3.Multiplication \n",
      " 4.Division \n",
      " 5.Floordivision \n",
      " 6.Modulooperation \n",
      " 7.Clear \n",
      " 8.Exit \n",
      "\n",
      "Enter your choice: from 1 to 6, 7 to clear screen and 8 to Exit:  6\n",
      "Enter a first number (example 1 + 2j) :10+10j\n",
      "Enter a second number (example 1 + 2j) :2+2j\n",
      "An exception occurred\n",
      "Sum is : None\n",
      "\n",
      "\n",
      " Select operation.\n",
      " 1.Addition \n",
      " 2.Subtraction \n",
      " 3.Multiplication \n",
      " 4.Division \n",
      " 5.Floordivision \n",
      " 6.Modulooperation \n",
      " 7.Clear \n",
      " 8.Exit \n",
      "\n",
      "Enter your choice: from 1 to 6, 7 to clear screen and 8 to Exit:  9\n"
     ]
    }
   ],
   "source": [
    "from os import system, name \n",
    "def addition(x, y):\n",
    "    try:\n",
    "        z = x + y\n",
    "        return z\n",
    "    except:\n",
    "        print(\"An exception occurred\")\n",
    "    \n",
    "    \n",
    "def subtraction(x, y):\n",
    "    try:\n",
    "        z = x - y\n",
    "        return z\n",
    "    except:\n",
    "        print(\"An exception occurred\")\n",
    "\n",
    "def multiplication(x, y):\n",
    "    try:\n",
    "        z = x * y\n",
    "        return z\n",
    "    except:\n",
    "        print(\"An exception occurred\")\n",
    "\n",
    "def division(x, y):\n",
    "    try:\n",
    "        z = x / y\n",
    "        return z\n",
    "    except:\n",
    "        print(\"An exception occurred\")\n",
    "    \n",
    "def floordivision(x, y):\n",
    "    try:\n",
    "        z = x // y\n",
    "        return z\n",
    "    except:\n",
    "        print(\"An exception occurred\")\n",
    "\n",
    "def modulooperation(x, y):\n",
    "    try:\n",
    "        z = x % y\n",
    "        return z\n",
    "    except:\n",
    "        print(\"An exception occurred\")\n",
    "\n",
    "userchoice = 0\n",
    "# take input from the user\n",
    "while userchoice < 8:\n",
    "    print(\"\\n\\n Select operation.\")\n",
    "    print(\" 1.Addition \\n 2.Subtraction \\n 3.Multiplication \\n 4.Division \\n 5.Floordivision \\n 6.Modulooperation \\n 7.Clear \\n 8.Exit \\n\")\n",
    "\n",
    "    userchoice = int(input(\"Enter your choice: from 1 to 6, 7 to clear screen and 8 to Exit:  \"))\n",
    "    if userchoice > 7:\n",
    "        break\n",
    "    elif userchoice == 7:\n",
    "        system('clear')\n",
    "        \n",
    "    else:\n",
    "        a = complex(input(\"Enter a first number (example 1 + 2j) :\"))\n",
    "        b = complex(input(\"Enter a second number (example 1 + 2j) :\"))\n",
    "        \n",
    "        if userchoice == 1:\n",
    "            sum = addition(a, b)\n",
    "\n",
    "        elif userchoice == 2:\n",
    "            sum = subtraction(a, b)\n",
    "\n",
    "        elif userchoice == 3:\n",
    "            sum = multiplication(a, b)\n",
    "\n",
    "        elif userchoice == 4:\n",
    "            sum = division(a, b)\n",
    "\n",
    "        elif userchoice == 5:\n",
    "            sum = floordivision(a, b)\n",
    "\n",
    "        elif userchoice == 6:\n",
    "            sum = modulooperation(a, b)\n",
    "\n",
    "        else:\n",
    "            printf(\"Please enter valid choice\")\n",
    "\n",
    "        print(\"Sum is :\", sum)\n"
   ]
  },
  {
   "cell_type": "markdown",
   "metadata": {},
   "source": [
    "Question 2: Range Function\n",
    "\n",
    "Function range(start, stop, step)\n",
    "\n",
    "The range() function returns a sequence of numbers, starting from 0 by default, and increments by 1 (by default), and stops before a specified number.\n",
    "\n",
    "start \tOptional. An integer number specifying at which position to start. Default is 0\n",
    "stop \tRequired. An integer number specifying at which position to stop (not included).\n",
    "step \tOptional. An integer number specifying the incrementation. Default is 1"
   ]
  },
  {
   "cell_type": "code",
   "execution_count": 4,
   "metadata": {},
   "outputs": [
    {
     "name": "stdout",
     "output_type": "stream",
     "text": [
      "0\n",
      "1\n",
      "2\n",
      "3\n"
     ]
    }
   ],
   "source": [
    "#example 1\n",
    "#example of range function\n",
    "x = range(4)\n",
    "for n in x:\n",
    "  print(n) "
   ]
  },
  {
   "cell_type": "code",
   "execution_count": 7,
   "metadata": {},
   "outputs": [
    {
     "name": "stdout",
     "output_type": "stream",
     "text": [
      "2\n",
      "3\n",
      "4\n"
     ]
    }
   ],
   "source": [
    "#example 1\n",
    "#example of range function\n",
    "for x in range (2, 5):\n",
    "    print(x)"
   ]
  },
  {
   "cell_type": "code",
   "execution_count": 2,
   "metadata": {},
   "outputs": [
    {
     "name": "stdout",
     "output_type": "stream",
     "text": [
      "3\n",
      "5\n",
      "7\n",
      "9\n"
     ]
    }
   ],
   "source": [
    "#example 2\n",
    "#example of range function\n",
    "x = range(3, 10, 2)\n",
    "for n in x:\n",
    "  print(n) "
   ]
  },
  {
   "cell_type": "markdown",
   "metadata": {},
   "source": [
    "Question 3 : Consider 2 numbers. Perform subtraction and \n",
    "if result greater than 25 \n",
    "    print their multiplication \n",
    "    else print their division result"
   ]
  },
  {
   "cell_type": "code",
   "execution_count": 10,
   "metadata": {},
   "outputs": [
    {
     "name": "stdout",
     "output_type": "stream",
     "text": [
      "Enter a number for a =20\n",
      "Enter a number for b =10\n",
      "2.0\n",
      "Enter a number for a =100\n",
      "Enter a number for b =50\n",
      "5000\n"
     ]
    }
   ],
   "source": [
    "a = int(input(\"Enter a number for a =\"))\n",
    "b = int(input(\"Enter a number for b =\"))\n",
    "\n",
    "if (a - b) > 25:\n",
    "    print(a * b)\n",
    "else:\n",
    "    print(a / b)\n",
    "    \n",
    "a = int(input(\"Enter a number for a =\"))\n",
    "b = int(input(\"Enter a number for b =\"))\n",
    "\n",
    "if (a - b) > 25:\n",
    "    print(a * b)\n",
    "else:\n",
    "    print(a / b)"
   ]
  },
  {
   "cell_type": "markdown",
   "metadata": {},
   "source": [
    "Question 4 : List of 10 elements. Print elements from list which are greater than 7 when number is divided by 2"
   ]
  },
  {
   "cell_type": "code",
   "execution_count": 11,
   "metadata": {},
   "outputs": [
    {
     "name": "stdout",
     "output_type": "stream",
     "text": [
      "100\n",
      "75\n",
      "60\n",
      "35\n",
      "87\n",
      "61\n",
      "140\n"
     ]
    }
   ],
   "source": [
    "list1 = [100,75,60,4,5,6,35,87,61,140]\n",
    "\n",
    "for i in list1:\n",
    "    if i/2 > 7:\n",
    "        print(i)"
   ]
  },
  {
   "cell_type": "code",
   "execution_count": null,
   "metadata": {},
   "outputs": [],
   "source": []
  }
 ],
 "metadata": {
  "kernelspec": {
   "display_name": "Python 3",
   "language": "python",
   "name": "python3"
  },
  "language_info": {
   "codemirror_mode": {
    "name": "ipython",
    "version": 3
   },
   "file_extension": ".py",
   "mimetype": "text/x-python",
   "name": "python",
   "nbconvert_exporter": "python",
   "pygments_lexer": "ipython3",
   "version": "3.7.6"
  }
 },
 "nbformat": 4,
 "nbformat_minor": 4
}
