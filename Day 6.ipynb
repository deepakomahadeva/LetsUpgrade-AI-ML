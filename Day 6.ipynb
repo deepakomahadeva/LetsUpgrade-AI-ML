{
 "cells": [
  {
   "cell_type": "markdown",
   "metadata": {},
   "source": [
    "Question 1:\n",
    "\n",
    "Assuming that we have some email addresses in the \"username@companyname.com\" format, please write program\n",
    "to print the company name of a given email address. Both user names and company names are composed of letters\n",
    "only.\n",
    "Input Format:\n",
    "The first line of the input contains an email address.\n",
    "Output Format:\n",
    "Print the company name in single line.\n",
    "Example;\n",
    "Input:\n",
    "john@google.com\n",
    "Output:\n",
    "google"
   ]
  },
  {
   "cell_type": "code",
   "execution_count": 4,
   "metadata": {},
   "outputs": [
    {
     "name": "stdout",
     "output_type": "stream",
     "text": [
      "Enter your email id: john@google.com\n",
      "Company Name is google\n"
     ]
    }
   ],
   "source": [
    "def ExtractCompanyName(userEmailID):\n",
    "    start = False\n",
    "    tempstring = ''\n",
    "    #charlist = list(userEmailID)\n",
    "    #print(charlist)\n",
    "    for character in userEmailID:\n",
    "        if character == \"@\":\n",
    "            start = True\n",
    "            continue\n",
    "            \n",
    "        if start == True: \n",
    "            if character != \".\":\n",
    "                tempstring += character\n",
    "            elif character == \".\":\n",
    "                break\n",
    "\n",
    "    return tempstring\n",
    "            \n",
    "    \n",
    "userEmailID = input(\"Enter your email id: \")\n",
    "companyname = ExtractCompanyName(userEmailID)\n",
    "print('Company Name is ' + companyname)\n",
    "\n",
    "#john@google.com"
   ]
  },
  {
   "cell_type": "markdown",
   "metadata": {},
   "source": [
    "Question 2:\n",
    "\n",
    "Write a program that accepts a comma-separated sequence of words as input and prints the words in a comma\n",
    "separated sequence after sorting them alphabetically.\n",
    "Input Format:\n",
    "The first line of input contains words separated by the comma.\n",
    "Output Format:\n",
    "Print the sorted words separated by the comma.\n",
    "Example:\n",
    "Input:\n",
    "without,hello,bag,world\n",
    "Output:\n",
    "bag,hello,without,world"
   ]
  },
  {
   "cell_type": "code",
   "execution_count": 33,
   "metadata": {},
   "outputs": [
    {
     "name": "stdout",
     "output_type": "stream",
     "text": [
      "Input : without,hello,bag,world\n",
      "Output : bag,hello,without,world,\n"
     ]
    }
   ],
   "source": [
    "import re \n",
    "\n",
    "def orderInputString(inputstring):\n",
    "    outlist = []\n",
    "    count = 0\n",
    "    outputstr = \"\"\n",
    "    \n",
    "    templist = re.split(\",\", inputstring)\n",
    "    while templist:\n",
    "        firststring = True\n",
    "        for sstr in templist:\n",
    "            if firststring == True:\n",
    "                firststring = False\n",
    "                fstringlist = sstr\n",
    "            else:\n",
    "                if fstringlist > sstr:\n",
    "                    fstringlist = sstr\n",
    "                    \n",
    "        outlist.insert(count, fstringlist)\n",
    "        count = count + 1\n",
    "        templist.remove(fstringlist)\n",
    "    for ostr in outlist:\n",
    "        outputstr += ostr + ','\n",
    "    return outputstr\n",
    "        \n",
    "inputstring = input(\"Input : \")\n",
    "print('Output : ' + orderInputString(inputstring))"
   ]
  },
  {
   "cell_type": "markdown",
   "metadata": {},
   "source": [
    "Question 4:\n",
    "Given a list of n-1 numbers ranging from 1 to n, your task is to find the missing number. There are no duplicates.\n",
    "Input Format:\n",
    "The first line contains n-1 numbers with each number separated by a space.\n",
    "Output Format:\n",
    "Print the missing number\n",
    "Example:\n",
    "Input:1 2 4 6 3 7 8\n",
    "Output:5\n",
    "Explanation:\n",
    "In the above list of numbers 5 is missing and hence 5 is the input"
   ]
  },
  {
   "cell_type": "code",
   "execution_count": 66,
   "metadata": {},
   "outputs": [
    {
     "name": "stdout",
     "output_type": "stream",
     "text": [
      "Input : 1 2 4 6 7 8\n",
      "Output: 3 5 \n",
      "Explanation:\n",
      "In the above list of numbers 3 5 is missing and hence 3 5 is the input\n"
     ]
    }
   ],
   "source": [
    "import re \n",
    "\n",
    "def findMissingNumber(inputstring):\n",
    "    \n",
    "    outlist = []\n",
    "    index = 0\n",
    "    matched = False\n",
    "    outstring = ''\n",
    "    \n",
    "    templist = re.split(\" \", inputstring)\n",
    "    #print(templist)\n",
    "    \n",
    "#while templist:\n",
    "    firstnum = True\n",
    "    for snum in templist:\n",
    "        if firstnum == True:\n",
    "            firstnum = False\n",
    "            lnum = int(snum)\n",
    "        else:\n",
    "            if lnum < int(snum):\n",
    "                lnum = int(snum)\n",
    "    \n",
    "    for x in range(1, lnum):\n",
    "        matched = True\n",
    "        for snum in templist:\n",
    "            if x == int(snum):\n",
    "                matched = True\n",
    "                break\n",
    "            else:\n",
    "                matched = False\n",
    "                \n",
    "                \n",
    "        if matched == False:\n",
    "            outlist += str(x)\n",
    "            \n",
    "    for s in outlist:\n",
    "        outstring = listToString(outlist)\n",
    "    return outstring    \n",
    "\n",
    "def listToString(s):  \n",
    "    str1 = \"\"     \n",
    "    for ele in s:  \n",
    "        str1 += ele + \" \"      \n",
    "    return str1  \n",
    "\n",
    "\n",
    "inputstring = input(\"Input : \")\n",
    "missingnumbers = findMissingNumber(inputstring)\n",
    "print('Output: ' + missingnumbers)\n",
    "print('Explanation:\\nIn the above list of numbers ' + missingnumbers + 'is missing and hence ' + missingnumbers + 'is the input')"
   ]
  },
  {
   "cell_type": "markdown",
   "metadata": {},
   "source": [
    "With a given list L, write a program to print this list L after removing all duplicate values with original order reserved.\n",
    "Example:\n",
    "If the input list is\n",
    "12 24 35 24 88 120 155 88 120 155\n",
    "Then the output should be\n",
    "12 24 35 88 120 155\n",
    "Explanation:\n",
    "Third, seventh and ninth element of the list L has been removed because it was already present.\n",
    "Input Format:\n",
    "In one line take the elements of the list L with each element separated by a space.\n",
    "Output Format:\n",
    "Print the elements of the modified list in one line with each element separated by a space.\n",
    "Example:\n",
    "Input: 12 24 35 24\n",
    "Output:\n",
    "12 24 35"
   ]
  },
  {
   "cell_type": "code",
   "execution_count": 85,
   "metadata": {},
   "outputs": [
    {
     "name": "stdout",
     "output_type": "stream",
     "text": [
      "Input : 12 24 35 24 88 120 155 88 120 155\n",
      "output : 12 24 35 88 120 155 \n"
     ]
    }
   ],
   "source": [
    "import re\n",
    "def listToString(s):  \n",
    "    str1 = \"\"     \n",
    "    for ele in s:  \n",
    "        str1 += ele + \" \"      \n",
    "    return str1\n",
    "\n",
    "def removeduplicates(inputstring):\n",
    "    outlist = []\n",
    "    index = 0\n",
    "    \n",
    "    templist = re.split(\" \", inputstring)\n",
    "    outlist.insert(0, templist[0])\n",
    "    for snum in templist:\n",
    "        nottoadd = False\n",
    "        for snum2 in outlist:\n",
    "            if snum == snum2:\n",
    "                nottoadd = True\n",
    "        if nottoadd == False:\n",
    "            index = index + 1\n",
    "            outlist.insert(index, snum)\n",
    "    outstring = listToString(outlist)   \n",
    "    return outstring\n",
    "\n",
    "inputstring = input(\"Input : \")\n",
    "print('output : ' + removeduplicates(inputstring))"
   ]
  }
 ],
 "metadata": {
  "kernelspec": {
   "display_name": "Python 3",
   "language": "python",
   "name": "python3"
  },
  "language_info": {
   "codemirror_mode": {
    "name": "ipython",
    "version": 3
   },
   "file_extension": ".py",
   "mimetype": "text/x-python",
   "name": "python",
   "nbconvert_exporter": "python",
   "pygments_lexer": "ipython3",
   "version": "3.7.6"
  }
 },
 "nbformat": 4,
 "nbformat_minor": 4
}
