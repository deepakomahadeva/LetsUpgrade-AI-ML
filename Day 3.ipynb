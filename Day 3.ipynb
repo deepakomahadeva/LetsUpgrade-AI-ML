{
 "cells": [
  {
   "cell_type": "code",
   "execution_count": 4,
   "metadata": {},
   "outputs": [
    {
     "name": "stdout",
     "output_type": "stream",
     "text": [
      "4\n",
      "3\n",
      "2\n",
      "1\n",
      "Subtraction of two complex numbers :  (2+2j)\n"
     ]
    }
   ],
   "source": [
    "a = int(input())\n",
    "b = int(input())\n",
    "c = int(input())\n",
    "d = int(input())\n",
    "\n",
    "x = complex(a, b)\n",
    "y = complex(c, d)\n",
    "\n",
    "#print here\n",
    "print( \"Subtraction of two complex numbers : \", x - y)"
   ]
  },
  {
   "cell_type": "code",
   "execution_count": 6,
   "metadata": {},
   "outputs": [
    {
     "name": "stdout",
     "output_type": "stream",
     "text": [
      "16\n",
      "Fourth root of a number is :  2.0\n"
     ]
    }
   ],
   "source": [
    "x = int(input())\n",
    "\n",
    "#print here\n",
    "print( \"Fourth root of a number is : \", x * 0.125)"
   ]
  },
  {
   "cell_type": "code",
   "execution_count": 7,
   "metadata": {},
   "outputs": [
    {
     "name": "stdout",
     "output_type": "stream",
     "text": [
      "1\n",
      "3\n",
      "value of a is :  3\n",
      "value of b is :  1\n"
     ]
    }
   ],
   "source": [
    "a = int(input())\n",
    "b = int(input())\n",
    "\n",
    "a, b = b, a\n",
    "print(\"value of a is : \", a)\n",
    "print(\"value of b is : \", b)"
   ]
  },
  {
   "cell_type": "code",
   "execution_count": 19,
   "metadata": {},
   "outputs": [
    {
     "name": "stdout",
     "output_type": "stream",
     "text": [
      "Enter temperature in fahrenheit: 100\n",
      "Temperature in Kelvin is : 310.93\n",
      "Temperature in Celsius is : 37.78\n"
     ]
    }
   ],
   "source": [
    "fahrenheit = float(input(\"Enter temperature in fahrenheit: \"))\n",
    "kelvin = ((fahrenheit - 32) * 5.0/9.0) + 273.15\n",
    "celsius = ((fahrenheit - 32) * 5.0/9.0)\n",
    "\n",
    "#print here\n",
    "print(\"Temperature in Kelvin is : %0.2f\" %kelvin)\n",
    "print(\"Temperature in Celsius is : %0.2f\" %celsius)\n"
   ]
  },
  {
   "cell_type": "code",
   "execution_count": 28,
   "metadata": {
    "scrolled": true
   },
   "outputs": [
    {
     "name": "stdout",
     "output_type": "stream",
     "text": [
      " a is type of datatype <class 'int'>\n",
      " b is type of datatype <class 'float'>\n",
      " c is type of datatype <class 'complex'>\n",
      " d is type of datatype <class 'list'>\n",
      " e is type of datatype <class 'tuple'>\n",
      " f is type of datatype <class 'dict'>\n",
      " g is type of datatype <class 'set'>\n",
      " h is type of datatype <class 'frozenset'>\n",
      " i is type of datatype <class 'bool'>\n",
      " j is type of datatype <class 'bytes'>\n",
      " k is type of datatype <class 'bytearray'>\n",
      " l is type of datatype <class 'memoryview'>\n",
      " m is type of datatype <class 'range'>\n"
     ]
    }
   ],
   "source": [
    "a = 1\n",
    "print(\" a is type of datatype\", type(a))\n",
    "\n",
    "b = 1.5\n",
    "print(\" b is type of datatype\", type(b))\n",
    "\n",
    "c = 1j\n",
    "print(\" c is type of datatype\", type(c))\n",
    "\n",
    "d = [ \"A\", \"B\", \"C\"]\n",
    "print(\" d is type of datatype\", type(d))\n",
    "\n",
    "e = (\"A\", \"B\", \"C\")\n",
    "print(\" e is type of datatype\", type(e))\n",
    "\n",
    "f = {\"name\" : \"Neha\", \"age\" : 30}\n",
    "print(\" f is type of datatype\", type(f))\n",
    "\n",
    "g = {\"A\", \"B\", \"C\"}\n",
    "print(\" g is type of datatype\", type(g))\n",
    "\n",
    "h = frozenset({\"A\", \"B\", \"C\"})\n",
    "print(\" h is type of datatype\", type(h))\n",
    "\n",
    "i = True\n",
    "print(\" i is type of datatype\", type(i))\n",
    "\n",
    "j = b\"Hello\"\n",
    "print(\" j is type of datatype\", type(j))\n",
    "\n",
    "k = bytearray(5)\n",
    "print(\" k is type of datatype\", type(k))\n",
    "\n",
    "l = memoryview(bytes(5))\n",
    "print(\" l is type of datatype\", type(l))\n",
    "\n",
    "m = range(5)\n",
    "print(\" m is type of datatype\", type(m))"
   ]
  },
  {
   "cell_type": "markdown",
   "metadata": {},
   "source": [
    "###Hello Lets Upgrade Team."
   ]
  }
 ],
 "metadata": {
  "kernelspec": {
   "display_name": "Python 3",
   "language": "python",
   "name": "python3"
  },
  "language_info": {
   "codemirror_mode": {
    "name": "ipython",
    "version": 3
   },
   "file_extension": ".py",
   "mimetype": "text/x-python",
   "name": "python",
   "nbconvert_exporter": "python",
   "pygments_lexer": "ipython3",
   "version": "3.7.6"
  }
 },
 "nbformat": 4,
 "nbformat_minor": 4
}
